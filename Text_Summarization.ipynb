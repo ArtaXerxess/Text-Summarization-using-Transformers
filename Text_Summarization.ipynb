{
  "nbformat": 4,
  "nbformat_minor": 0,
  "metadata": {
    "colab": {
      "provenance": [],
      "authorship_tag": "ABX9TyPbQtccgrhLuC9L28ruhPMq"
    },
    "kernelspec": {
      "name": "python3",
      "display_name": "Python 3"
    },
    "language_info": {
      "name": "python"
    }
  },
  "cells": [
    {
      "cell_type": "code",
      "source": [
        "from transformers import pipeline\n",
        "summarizer = pipeline(\"summarization\")"
      ],
      "metadata": {
        "id": "40eqM3Dfdb5q"
      },
      "execution_count": null,
      "outputs": []
    },
    {
      "cell_type": "code",
      "source": [
        "# https://www.123helpme.com/essay/Copy-Protection-And-The-Drm-158578\n",
        "ARTICLE = \"\"\"\\\n",
        "Piracy of digital information today is a huge problem. However, an even bigger problem is the way that the government and private companies react to it. Private companies make the problem even worse by making over-protective software secutiy systems that also limit our freedom. The government even takes these laws so seriously as to arrest innocent people. Piracy itself is a problem, but even worse is the way it is being handled. Software piracy leads to many companies becoming over-protective about their software and they hire companies like SecuROM, Sony BMG and Starforce. Both companies produce software protection programs and encryptions which sometimes cause problems for the honest user who actually purchased the software. They sometimes go as far as to invade your own privacy by installing surveillance software without you knowing about it. This software is called a rootkit and any common anti-virus program would detect it. It is a program which can prevent you from removing it and can perform various functions, such as preventing you from installing certain software. It is a total invasion of privacy and the companies that have tried this method of copy protection have failed and have been severely legally penalized. Also many clueless teens have gotten in trouble with the law. A 19-year-old girl wanted to videotape a short clip of the movie \"Transformers\" for her little brother. She pulled out her digital camera and recorded a 20 second clip. She faces up to a year in jail time. This woman was also an immigrant and was completely unaware of such ridiculous laws. It is sickening that our government and private companies like the Motion Picture Association of America are taking extreme levels of \"zero tolerance\" policies, when the awareness of such laws is not very well known in the first place. There are many methods of piracy. The most common method of software piracy is Bittorrent. Bittorrent is a peer to peer network consisting of hosts which share data through a medium called a tracker, which other peers can connect to and download from. Bittorrent is initiated through certain clients such as Bitcomet, µTorrent, and Azureus. Gnutella network sharing is another method of piracy where users connect to each other in a mesh network and share data between users, the most common use of this would be to pirate music and sometimes movies or software.\n",
        "\"\"\""
      ],
      "metadata": {
        "id": "AlmgDHpQeIOv"
      },
      "execution_count": 18,
      "outputs": []
    },
    {
      "cell_type": "code",
      "source": [
        "summarizer(ARTICLE, max_length=400, min_length=100, do_sample=False)"
      ],
      "metadata": {
        "colab": {
          "base_uri": "https://localhost:8080/"
        },
        "id": "0VdtGsgvfHvB",
        "outputId": "15ed8d0e-ad98-4ae9-d0dd-91a6734348ba"
      },
      "execution_count": 19,
      "outputs": [
        {
          "output_type": "execute_result",
          "data": {
            "text/plain": [
              "[{'summary_text': ' Piracy of digital information today is a huge problem, but an even bigger problem is the way that the government and private companies react to it . Private companies make the problem even worse by making over-protective software secutiy systems that also limit our freedom . The government even takes these laws so seriously as to arrest innocent people . The Motion Picture Association of America is taking extreme levels of \"zero tolerance\" policies, when the awareness of such laws is not very well known in the first place .'}]"
            ]
          },
          "metadata": {},
          "execution_count": 19
        }
      ]
    }
  ]
}